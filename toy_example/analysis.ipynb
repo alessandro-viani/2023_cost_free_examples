{
 "cells": [
  {
   "cell_type": "code",
   "execution_count": 1,
   "metadata": {
    "ExecuteTime": {
     "end_time": "2023-06-12T13:02:27.451199Z",
     "start_time": "2023-06-12T13:02:27.447538Z"
    }
   },
   "outputs": [],
   "source": [
    "import pickle\n",
    "\n",
    "import numpy as np\n",
    "\n",
    "from Posterior import Posterior\n",
    "from Util import creation_data"
   ]
  },
  {
   "cell_type": "code",
   "execution_count": 2,
   "metadata": {
    "ExecuteTime": {
     "end_time": "2023-06-12T13:02:27.456530Z",
     "start_time": "2023-06-12T13:02:27.454805Z"
    }
   },
   "outputs": [],
   "source": [
    "create_data = False\n",
    "pm_run = True\n",
    "fb_run = True\n",
    "em_run = True\n",
    "\n",
    "n_file = 100\n",
    "n_data = 100\n",
    "\n",
    "cfg = {'n_particles': 50, 'theta_eff': None, 'sourcespace': None, 'data': None,\n",
    "       'n_bins': 100, 'sequence_evolution': 100, 'method': None, 'verbose': False}\n",
    "\n",
    "theta_true = np.linspace(0.2, 0.3, n_file)\n",
    "\n",
    "err_map_mean_pm, err_map_theta_pm, err_pm_mean_pm, err_pm_theta_pm, cpu_time_pm, ess_pm = np.zeros((6, n_file))\n",
    "err_map_mean_eb, err_pm_mean_eb, ess_eb = np.zeros((3, n_file))\n",
    "err_map_mean_fb, err_map_theta_fb, err_pm_mean_fb, err_pm_theta_fb, cpu_time_fb, ess_fb = np.zeros((6, n_file))\n",
    "err_map_mean_em, err_map_theta_em, err_pm_mean_em, err_pm_theta_em, cpu_time_em, ess_em = np.zeros((6, n_file))"
   ]
  },
  {
   "attachments": {},
   "cell_type": "markdown",
   "metadata": {},
   "source": [
    "DATA CREATION"
   ]
  },
  {
   "cell_type": "code",
   "execution_count": 3,
   "metadata": {},
   "outputs": [],
   "source": [
    "if create_data:\n",
    "    for idx, _n in enumerate(theta_true):\n",
    "        sourcespace, data = creation_data(n_data=n_data, theta=_n)\n",
    "        with open(f'data/data_{idx}.pkl', 'wb') as f:\n",
    "            pickle.dump([sourcespace, data, _n], f)"
   ]
  },
  {
   "attachments": {},
   "cell_type": "markdown",
   "metadata": {},
   "source": [
    "RUN METHODS"
   ]
  },
  {
   "cell_type": "code",
   "execution_count": 4,
   "metadata": {},
   "outputs": [
    {
     "name": "stdout",
     "output_type": "stream",
     "text": [
      "0 - 1 - 2 - "
     ]
    },
    {
     "ename": "KeyboardInterrupt",
     "evalue": "",
     "output_type": "error",
     "traceback": [
      "\u001b[0;31m---------------------------------------------------------------------------\u001b[0m",
      "\u001b[0;31mKeyboardInterrupt\u001b[0m                         Traceback (most recent call last)",
      "\u001b[1;32m/Users/ale/Documents/school_phd/my_papers/cost_free_hyper/toy_example/analysis.ipynb Cell 6\u001b[0m in \u001b[0;36m1\n\u001b[1;32m     <a href='vscode-notebook-cell:/Users/ale/Documents/school_phd/my_papers/cost_free_hyper/toy_example/analysis.ipynb#W5sZmlsZQ%3D%3D?line=15'>16</a>\u001b[0m cfg[\u001b[39m'\u001b[39m\u001b[39mmethod\u001b[39m\u001b[39m'\u001b[39m] \u001b[39m=\u001b[39m \u001b[39m'\u001b[39m\u001b[39mFB\u001b[39m\u001b[39m'\u001b[39m\n\u001b[1;32m     <a href='vscode-notebook-cell:/Users/ale/Documents/school_phd/my_papers/cost_free_hyper/toy_example/analysis.ipynb#W5sZmlsZQ%3D%3D?line=16'>17</a>\u001b[0m post_fb \u001b[39m=\u001b[39m Posterior(cfg\u001b[39m=\u001b[39mcfg)\n\u001b[0;32m---> <a href='vscode-notebook-cell:/Users/ale/Documents/school_phd/my_papers/cost_free_hyper/toy_example/analysis.ipynb#W5sZmlsZQ%3D%3D?line=17'>18</a>\u001b[0m post_fb \u001b[39m=\u001b[39m post_fb\u001b[39m.\u001b[39mperform_smc()\n\u001b[1;32m     <a href='vscode-notebook-cell:/Users/ale/Documents/school_phd/my_papers/cost_free_hyper/toy_example/analysis.ipynb#W5sZmlsZQ%3D%3D?line=18'>19</a>\u001b[0m \u001b[39mwith\u001b[39;00m \u001b[39mopen\u001b[39m(\u001b[39mf\u001b[39m\u001b[39m'\u001b[39m\u001b[39msol/sol_fb_new_\u001b[39m\u001b[39m{\u001b[39;00midx\u001b[39m}\u001b[39;00m\u001b[39m.pkl\u001b[39m\u001b[39m'\u001b[39m, \u001b[39m'\u001b[39m\u001b[39mwb\u001b[39m\u001b[39m'\u001b[39m) \u001b[39mas\u001b[39;00m f:\n\u001b[1;32m     <a href='vscode-notebook-cell:/Users/ale/Documents/school_phd/my_papers/cost_free_hyper/toy_example/analysis.ipynb#W5sZmlsZQ%3D%3D?line=19'>20</a>\u001b[0m     pickle\u001b[39m.\u001b[39mdump(post_fb, f)\n",
      "File \u001b[0;32m~/Documents/school_phd/my_papers/cost_free_hyper/toy_example/Posterior.py:258\u001b[0m, in \u001b[0;36mPosterior.perform_smc\u001b[0;34m(self)\u001b[0m\n\u001b[1;32m    256\u001b[0m n \u001b[39m=\u001b[39m \u001b[39m1\u001b[39m\n\u001b[1;32m    257\u001b[0m \u001b[39mwhile\u001b[39;00m \u001b[39mself\u001b[39m\u001b[39m.\u001b[39mexponent_like[\u001b[39m-\u001b[39m\u001b[39m1\u001b[39m] \u001b[39m<\u001b[39m\u001b[39m=\u001b[39m \u001b[39m1\u001b[39m:\n\u001b[0;32m--> 258\u001b[0m     \u001b[39mself\u001b[39m \u001b[39m=\u001b[39m \u001b[39mself\u001b[39;49m\u001b[39m.\u001b[39;49mmetropolis_hastings()\n\u001b[1;32m    259\u001b[0m     \u001b[39mself\u001b[39m\u001b[39m.\u001b[39mexponent_like \u001b[39m=\u001b[39m np\u001b[39m.\u001b[39mappend(\u001b[39mself\u001b[39m\u001b[39m.\u001b[39mexponent_like, \u001b[39mself\u001b[39m\u001b[39m.\u001b[39mevolution_exponent())\n\u001b[1;32m    260\u001b[0m     \u001b[39mself\u001b[39m \u001b[39m=\u001b[39m \u001b[39mself\u001b[39m\u001b[39m.\u001b[39mimportance_sampling(\u001b[39mself\u001b[39m\u001b[39m.\u001b[39mexponent_like[\u001b[39m-\u001b[39m\u001b[39m1\u001b[39m])\n",
      "File \u001b[0;32m~/Documents/school_phd/my_papers/cost_free_hyper/toy_example/Posterior.py:139\u001b[0m, in \u001b[0;36mPosterior.metropolis_hastings\u001b[0;34m(self)\u001b[0m\n\u001b[1;32m    137\u001b[0m     \u001b[39mself\u001b[39m\u001b[39m.\u001b[39mparticle[idx] \u001b[39m=\u001b[39m \u001b[39mself\u001b[39m\u001b[39m.\u001b[39mparticle[idx]\u001b[39m.\u001b[39mmh_mean(\u001b[39mself\u001b[39m\u001b[39m.\u001b[39msourcespace, \u001b[39mself\u001b[39m\u001b[39m.\u001b[39mdata, \u001b[39mself\u001b[39m\u001b[39m.\u001b[39mexponent_like[\u001b[39m-\u001b[39m\u001b[39m1\u001b[39m])\n\u001b[1;32m    138\u001b[0m     \u001b[39mif\u001b[39;00m \u001b[39mself\u001b[39m\u001b[39m.\u001b[39mmethod \u001b[39m==\u001b[39m \u001b[39m'\u001b[39m\u001b[39mFB\u001b[39m\u001b[39m'\u001b[39m:\n\u001b[0;32m--> 139\u001b[0m         \u001b[39mself\u001b[39m\u001b[39m.\u001b[39mparticle[idx] \u001b[39m=\u001b[39m \u001b[39mself\u001b[39;49m\u001b[39m.\u001b[39;49mparticle[idx]\u001b[39m.\u001b[39;49mmh_theta(\u001b[39mself\u001b[39;49m\u001b[39m.\u001b[39;49msourcespace, \u001b[39mself\u001b[39;49m\u001b[39m.\u001b[39;49mdata, \u001b[39mself\u001b[39;49m\u001b[39m.\u001b[39;49mexponent_like[\u001b[39m-\u001b[39;49m\u001b[39m1\u001b[39;49m])\n\u001b[1;32m    141\u001b[0m \u001b[39mreturn\u001b[39;00m \u001b[39mself\u001b[39m\n",
      "File \u001b[0;32m~/Documents/school_phd/my_papers/cost_free_hyper/toy_example/Particle.py:87\u001b[0m, in \u001b[0;36mParticle.mh_theta\u001b[0;34m(self, sourcespace, data, exponent_like)\u001b[0m\n\u001b[1;32m     84\u001b[0m part_aux \u001b[39m=\u001b[39m copy\u001b[39m.\u001b[39mdeepcopy(\u001b[39mself\u001b[39m)\n\u001b[1;32m     86\u001b[0m part_aux\u001b[39m.\u001b[39mtheta \u001b[39m=\u001b[39m np\u001b[39m.\u001b[39mrandom\u001b[39m.\u001b[39mgamma(shape\u001b[39m=\u001b[39m\u001b[39m100\u001b[39m, scale\u001b[39m=\u001b[39m\u001b[39mself\u001b[39m\u001b[39m.\u001b[39mtheta \u001b[39m/\u001b[39m \u001b[39m100\u001b[39m)\n\u001b[0;32m---> 87\u001b[0m part_aux\u001b[39m.\u001b[39mlike \u001b[39m=\u001b[39m evaluation_likelihood(part_aux\u001b[39m.\u001b[39;49mmean, part_aux\u001b[39m.\u001b[39;49mtheta, sourcespace, data, exponent_like)\n\u001b[1;32m     88\u001b[0m part_aux\u001b[39m.\u001b[39mprior \u001b[39m=\u001b[39m theta_prior(part_aux\u001b[39m.\u001b[39mtheta, part_aux\u001b[39m.\u001b[39mtheta_eff)\n\u001b[1;32m     90\u001b[0m rapp_prior \u001b[39m=\u001b[39m part_aux\u001b[39m.\u001b[39mprior \u001b[39m/\u001b[39m \u001b[39mself\u001b[39m\u001b[39m.\u001b[39mprior\n",
      "File \u001b[0;32m~/Documents/school_phd/my_papers/cost_free_hyper/toy_example/Particle.py:25\u001b[0m, in \u001b[0;36mevaluation_likelihood\u001b[0;34m(mean, theta, sourcespace, data, exponent_like)\u001b[0m\n\u001b[1;32m     23\u001b[0m     log_likelihood \u001b[39m=\u001b[39m \u001b[39m0\u001b[39m\n\u001b[1;32m     24\u001b[0m     \u001b[39mfor\u001b[39;00m idx, _d \u001b[39min\u001b[39;00m \u001b[39menumerate\u001b[39m(data):\n\u001b[0;32m---> 25\u001b[0m         log_likelihood \u001b[39m+\u001b[39m\u001b[39m=\u001b[39m log_normal(_d, np\u001b[39m.\u001b[39;49mexp(log_normal(sourcespace[idx], mean, \u001b[39m1\u001b[39;49m)), theta)\n\u001b[1;32m     26\u001b[0m     likelihood \u001b[39m=\u001b[39m np\u001b[39m.\u001b[39mexp(exponent_like \u001b[39m*\u001b[39m log_likelihood)\n\u001b[1;32m     27\u001b[0m \u001b[39mreturn\u001b[39;00m likelihood\n",
      "\u001b[0;31mKeyboardInterrupt\u001b[0m: "
     ]
    }
   ],
   "source": [
    "for idx, _n in enumerate(theta_true):\n",
    "    print(f'{idx} - ', end='')\n",
    "    cfg['theta_eff'] = 0.5 * np.min(theta_true)\n",
    "\n",
    "    with open(f'data/data_{idx}.pkl', 'rb') as f:\n",
    "        cfg['sourcespace'], cfg['data'], useless = pickle.load(f)\n",
    "\n",
    "    if pm_run:\n",
    "        cfg['method'] = 'PM'\n",
    "        post_pm = Posterior(cfg=cfg)\n",
    "        post_pm = post_pm.perform_smc()\n",
    "        with open(f'sol/sol_pm_{idx}.pkl', 'wb') as f:\n",
    "            pickle.dump(post_pm, f)\n",
    "\n",
    "    if fb_run:\n",
    "        cfg['method'] = 'FB'\n",
    "        post_fb = Posterior(cfg=cfg)\n",
    "        post_fb = post_fb.perform_smc()\n",
    "        with open(f'sol/sol_fb_{idx}.pkl', 'wb') as f:\n",
    "            pickle.dump(post_fb, f)\n",
    "\n",
    "    if em_run:\n",
    "        cfg['method'] = 'EM'\n",
    "        post_em = Posterior(cfg=cfg)\n",
    "        post_em = post_em.perform_smc()\n",
    "        with open(f'sol/sol_em_{idx}.pkl', 'wb') as f:\n",
    "            pickle.dump(post_em, f)"
   ]
  },
  {
   "attachments": {},
   "cell_type": "markdown",
   "metadata": {},
   "source": [
    "ERRORS EVALUATION"
   ]
  },
  {
   "cell_type": "code",
   "execution_count": null,
   "metadata": {},
   "outputs": [
    {
     "name": "stdout",
     "output_type": "stream",
     "text": [
      "0 - 1 - 2 - 3 - 4 - 5 - 6 - 7 - 8 - 9 - 10 - 11 - 12 - 13 - 14 - 15 - 16 - 17 - 18 - 19 - 20 - 21 - 22 - 23 - 24 - 25 - 26 - 27 - 28 - 29 - 30 - 31 - 32 - 33 - 34 - 35 - 36 - 37 - 38 - 39 - 40 - 41 - 42 - 43 - 44 - 45 - 46 - 47 - 48 - 49 - 50 - 51 - 52 - 53 - 54 - 55 - 56 - 57 - 58 - 59 - 60 - 61 - 62 - 63 - 64 - 65 - 66 - 67 - 68 - 69 - 70 - 71 - 72 - 73 - 74 - 75 - 76 - 77 - 78 - 79 - 80 - 81 - 82 - 83 - 84 - 85 - 86 - 87 - 88 - 89 - 90 - 91 - 92 - 93 - 94 - 95 - 96 - 97 - 98 - 99 - "
     ]
    }
   ],
   "source": [
    "for idx, _n in enumerate(theta_true):\n",
    "    print(f'{idx} - ', end='')\n",
    "\n",
    "    with open(f'sol/sol_pm_new_{idx}.pkl', 'rb') as f:\n",
    "        post_pm = pickle.load(f)\n",
    "    with open(f'sol/sol_fb_new_{idx}.pkl', 'rb') as f:\n",
    "        post_fb = pickle.load(f)\n",
    "    with open(f'sol/sol_em_new_{idx}.pkl', 'rb') as f:\n",
    "        post_em = pickle.load(f)\n",
    "\n",
    "    err_map_mean_pm[idx] = (post_pm.map_mean - 0)\n",
    "    err_map_mean_fb[idx] = (post_fb.map_mean - 0)\n",
    "    err_map_mean_em[idx] = (post_em.map_mean - 0)\n",
    "    err_map_mean_eb[idx] = (post_pm.map_mean_eb - 0)\n",
    "\n",
    "    err_pm_mean_pm[idx] = (post_pm.pm_mean - 0)\n",
    "    err_pm_mean_fb[idx] = (post_fb.pm_mean - 0)\n",
    "    err_pm_mean_em[idx] = (post_em.pm_mean - 0)\n",
    "    err_pm_mean_eb[idx] = (post_pm.pm_mean_eb - 0)\n",
    "\n",
    "    err_map_theta_pm[idx] = (post_pm.map_theta - _n) / _n\n",
    "    err_map_theta_fb[idx] = (post_fb.map_theta - _n) / _n\n",
    "    err_map_theta_em[idx] = (post_em.map_theta - _n) / _n\n",
    "\n",
    "    err_pm_theta_pm[idx] = (post_pm.pm_theta - _n) / _n\n",
    "    err_pm_theta_fb[idx] = (post_fb.pm_theta - _n) / _n\n",
    "    err_pm_theta_em[idx] = (post_em.pm_theta - _n) / _n\n",
    "\n",
    "    cpu_time_pm[idx] = post_pm.cpu_time\n",
    "    cpu_time_fb[idx] = post_fb.cpu_time\n",
    "    cpu_time_em[idx] = post_em.cpu_time\n",
    "\n",
    "    ess_pm[idx] = post_pm.ess\n",
    "    ess_fb[idx] = post_fb.ess[-1]\n",
    "    ess_em[idx] = post_em.ess[-1]\n",
    "    ess_eb[idx] = post_pm.ess_eb\n",
    "\n",
    "with open(f'sol/analytics.pkl', 'wb') as f:\n",
    "    pickle.dump([err_map_mean_pm, err_map_theta_pm, err_pm_mean_pm, err_pm_theta_pm,\n",
    "                 err_map_mean_eb, err_pm_mean_eb,\n",
    "                 err_map_mean_fb, err_map_theta_fb, err_pm_mean_fb, err_pm_theta_fb,\n",
    "                 err_map_mean_em, err_map_theta_em, err_pm_mean_em, err_pm_theta_em,\n",
    "                 cpu_time_pm, cpu_time_fb, cpu_time_em, ess_pm, ess_fb, ess_em, ess_eb], f)"
   ]
  }
 ],
 "metadata": {
  "kernelspec": {
   "display_name": "Python 3 (ipykernel)",
   "language": "python",
   "name": "python3"
  },
  "language_info": {
   "codemirror_mode": {
    "name": "ipython",
    "version": 3
   },
   "file_extension": ".py",
   "mimetype": "text/x-python",
   "name": "python",
   "nbconvert_exporter": "python",
   "pygments_lexer": "ipython3",
   "version": "3.9.6"
  }
 },
 "nbformat": 4,
 "nbformat_minor": 1
}
